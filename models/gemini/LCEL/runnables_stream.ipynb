{
 "cells": [
  {
   "cell_type": "code",
   "id": "initial_id",
   "metadata": {
    "collapsed": true,
    "ExecuteTime": {
     "end_time": "2025-08-09T18:20:12.397271Z",
     "start_time": "2025-08-09T18:20:12.183423Z"
    }
   },
   "source": [
    "from langchain_core.runnables import RunnableLambda\n",
    "\n",
    "# Sequencia de runnables\n",
    "sequence = RunnableLambda(lambda x: x + 1) | RunnableLambda(lambda x: x * 2)\n",
    "print(sequence.invoke(10))"
   ],
   "outputs": [
    {
     "name": "stdout",
     "output_type": "stream",
     "text": [
      "22\n"
     ]
    }
   ],
   "execution_count": 1
  },
  {
   "metadata": {
    "ExecuteTime": {
     "end_time": "2025-08-09T18:22:20.720681Z",
     "start_time": "2025-08-09T18:22:20.705999Z"
    }
   },
   "cell_type": "code",
   "source": [
    "sequence = RunnableLambda(lambda x: x + 1) | {\n",
    "    'index_1': RunnableLambda(lambda x: x * 2),\n",
    "    'index_2': RunnableLambda(lambda x: x * 3)\n",
    "}\n",
    "print(sequence.invoke(10))"
   ],
   "id": "60b359b00126e781",
   "outputs": [
    {
     "name": "stdout",
     "output_type": "stream",
     "text": [
      "{'index_1': 22, 'index_2': 33}\n"
     ]
    }
   ],
   "execution_count": 2
  },
  {
   "metadata": {},
   "cell_type": "code",
   "outputs": [],
   "execution_count": null,
   "source": "",
   "id": "129bbf4f356edf94"
  }
 ],
 "metadata": {
  "kernelspec": {
   "display_name": "Python 3",
   "language": "python",
   "name": "python3"
  },
  "language_info": {
   "codemirror_mode": {
    "name": "ipython",
    "version": 2
   },
   "file_extension": ".py",
   "mimetype": "text/x-python",
   "name": "python",
   "nbconvert_exporter": "python",
   "pygments_lexer": "ipython2",
   "version": "2.7.6"
  }
 },
 "nbformat": 4,
 "nbformat_minor": 5
}
