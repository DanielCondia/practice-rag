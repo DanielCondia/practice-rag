{
 "cells": [
  {
   "cell_type": "code",
   "id": "initial_id",
   "metadata": {
    "collapsed": true,
    "ExecuteTime": {
     "end_time": "2025-08-16T01:23:29.930665Z",
     "start_time": "2025-08-16T01:23:26.781163Z"
    }
   },
   "source": [
    "from langchain_google_genai import ChatGoogleGenerativeAI\n",
    "from getpass import getpass\n",
    "\n",
    "from guias.Agents import with_message_history\n",
    "\n",
    "api_key = getpass(\"Enter your API key: \")\n",
    "llm = ChatGoogleGenerativeAI(model=\"gemini-2.5-flash\", google_api_key=api_key)"
   ],
   "outputs": [],
   "execution_count": 1
  },
  {
   "metadata": {
    "ExecuteTime": {
     "end_time": "2025-08-16T01:28:16.634819Z",
     "start_time": "2025-08-16T01:28:16.631626Z"
    }
   },
   "cell_type": "code",
   "source": [
    "from langchain_core.chat_history import (\n",
    "    BaseChatMessageHistory,\n",
    "    InMemoryChatMessageHistory\n",
    ")\n",
    "from langchain_core.runnables.history import RunnableWithMessageHistory\n",
    "from langchain_core.messages import HumanMessage"
   ],
   "id": "c2f45b8ce02ff8ad",
   "outputs": [],
   "execution_count": 5
  },
  {
   "metadata": {
    "ExecuteTime": {
     "end_time": "2025-08-16T01:25:59.133193Z",
     "start_time": "2025-08-16T01:25:59.129611Z"
    }
   },
   "cell_type": "code",
   "source": [
    "store = {}\n",
    "\n",
    "def get_session_history(session_id: str) -> BaseChatMessageHistory:\n",
    "    if session_id not in store:\n",
    "        store[session_id] = InMemoryChatMessageHistory()\n",
    "    return store[session_id]\n"
   ],
   "id": "ba4b609b14f2506d",
   "outputs": [],
   "execution_count": 3
  },
  {
   "metadata": {
    "ExecuteTime": {
     "end_time": "2025-08-16T01:27:04.380201Z",
     "start_time": "2025-08-16T01:27:04.371691Z"
    }
   },
   "cell_type": "code",
   "source": [
    "with_message_history = RunnableWithMessageHistory(llm, get_session_history)\n",
    "config = {'configurable': {'session_id': 'abc2'}}"
   ],
   "id": "4be4b8f2de0583c0",
   "outputs": [],
   "execution_count": 4
  },
  {
   "metadata": {
    "ExecuteTime": {
     "end_time": "2025-08-16T01:28:28.703188Z",
     "start_time": "2025-08-16T01:28:24.877067Z"
    }
   },
   "cell_type": "code",
   "source": [
    "response = with_message_history.invoke(\n",
    "    [HumanMessage(content='Hi! I am Daniel')],\n",
    "     config=config\n",
    ")"
   ],
   "id": "1f855b5382327524",
   "outputs": [],
   "execution_count": 6
  },
  {
   "metadata": {
    "ExecuteTime": {
     "end_time": "2025-08-16T01:28:36.345798Z",
     "start_time": "2025-08-16T01:28:36.340210Z"
    }
   },
   "cell_type": "code",
   "source": "response.content",
   "id": "994e05a292cf9ed7",
   "outputs": [
    {
     "data": {
      "text/plain": [
       "'Hi Daniel! Nice to meet you.\\n\\nHow can I help you today?'"
      ]
     },
     "execution_count": 7,
     "metadata": {},
     "output_type": "execute_result"
    }
   ],
   "execution_count": 7
  },
  {
   "metadata": {
    "ExecuteTime": {
     "end_time": "2025-08-16T01:29:41.210324Z",
     "start_time": "2025-08-16T01:29:40.453065Z"
    }
   },
   "cell_type": "code",
   "source": [
    "response = with_message_history.invoke(\n",
    "    [HumanMessage(content='What is my name?')],\n",
    "     config=config\n",
    ")"
   ],
   "id": "d36a3916f4361500",
   "outputs": [],
   "execution_count": 8
  },
  {
   "metadata": {
    "ExecuteTime": {
     "end_time": "2025-08-16T01:29:50.411716Z",
     "start_time": "2025-08-16T01:29:50.405061Z"
    }
   },
   "cell_type": "code",
   "source": "response.content",
   "id": "8a7389dda81616be",
   "outputs": [
    {
     "data": {
      "text/plain": [
       "'Your name is Daniel.'"
      ]
     },
     "execution_count": 9,
     "metadata": {},
     "output_type": "execute_result"
    }
   ],
   "execution_count": 9
  },
  {
   "metadata": {
    "ExecuteTime": {
     "end_time": "2025-08-16T01:30:07.966725Z",
     "start_time": "2025-08-16T01:30:07.962715Z"
    }
   },
   "cell_type": "code",
   "source": "store",
   "id": "912ad98f1f26ebd9",
   "outputs": [
    {
     "data": {
      "text/plain": [
       "{'abc2': InMemoryChatMessageHistory(messages=[HumanMessage(content='Hi! I am Daniel', additional_kwargs={}, response_metadata={}), AIMessage(content='Hi Daniel! Nice to meet you.\\n\\nHow can I help you today?', additional_kwargs={}, response_metadata={'prompt_feedback': {'block_reason': 0, 'safety_ratings': []}, 'finish_reason': 'STOP', 'model_name': 'gemini-2.5-flash', 'safety_ratings': []}, id='run--b188f6bc-47c2-4d50-bd79-e2f438591fbe-0', usage_metadata={'input_tokens': 6, 'output_tokens': 511, 'total_tokens': 517, 'input_token_details': {'cache_read': 0}, 'output_token_details': {'reasoning': 495}}), HumanMessage(content='What is my name?', additional_kwargs={}, response_metadata={}), AIMessage(content='Your name is Daniel.', additional_kwargs={}, response_metadata={'prompt_feedback': {'block_reason': 0, 'safety_ratings': []}, 'finish_reason': 'STOP', 'model_name': 'gemini-2.5-flash', 'safety_ratings': []}, id='run--e14a5cf3-1e05-4555-98ec-0b8815d8fde9-0', usage_metadata={'input_tokens': 29, 'output_tokens': 45, 'total_tokens': 74, 'input_token_details': {'cache_read': 0}, 'output_token_details': {'reasoning': 40}})])}"
      ]
     },
     "execution_count": 10,
     "metadata": {},
     "output_type": "execute_result"
    }
   ],
   "execution_count": 10
  }
 ],
 "metadata": {
  "kernelspec": {
   "display_name": "Python 3",
   "language": "python",
   "name": "python3"
  },
  "language_info": {
   "codemirror_mode": {
    "name": "ipython",
    "version": 2
   },
   "file_extension": ".py",
   "mimetype": "text/x-python",
   "name": "python",
   "nbconvert_exporter": "python",
   "pygments_lexer": "ipython2",
   "version": "2.7.6"
  }
 },
 "nbformat": 4,
 "nbformat_minor": 5
}
