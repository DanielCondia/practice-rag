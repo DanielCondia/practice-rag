{
 "cells": [
  {
   "cell_type": "code",
   "id": "initial_id",
   "metadata": {
    "collapsed": true,
    "ExecuteTime": {
     "end_time": "2025-08-09T17:31:55.057112Z",
     "start_time": "2025-08-09T17:31:49.528861Z"
    }
   },
   "source": [
    "import getpass\n",
    "from html.parser import charref\n",
    "\n",
    "from langchain_google_genai import ChatGoogleGenerativeAI\n",
    "\n",
    "\n",
    "api_key = getpass.getpass(\"Enter your API key: \")\n",
    "model = ChatGoogleGenerativeAI(\n",
    "    model=\"gemini-2.5-flash\",\n",
    "    google_api_key=api_key\n",
    ")"
   ],
   "outputs": [],
   "execution_count": 4
  },
  {
   "metadata": {
    "ExecuteTime": {
     "end_time": "2025-08-09T17:51:16.465111Z",
     "start_time": "2025-08-09T17:51:16.317571Z"
    }
   },
   "cell_type": "code",
   "source": [
    "from langchain.schema import AIMessage, HumanMessage, SystemMessage\n",
    "\n",
    "chat_history = []\n",
    "if not chat_history:\n",
    "    system_message = SystemMessage(content='Eres un asistente util')\n",
    "    chat_history.append(system_message)\n"
   ],
   "id": "3e7d8517b4e090f7",
   "outputs": [],
   "execution_count": 11
  },
  {
   "metadata": {
    "ExecuteTime": {
     "end_time": "2025-08-09T18:09:24.741629Z",
     "start_time": "2025-08-09T18:09:06.243595Z"
    }
   },
   "cell_type": "code",
   "source": [
    "query = input('Haz una pregunta: ')\n",
    "chat_history.append(HumanMessage(content=query))\n",
    "\n",
    "response = model.invoke(chat_history).content\n",
    "print(response)"
   ],
   "id": "36dba7ba19b676ea",
   "outputs": [
    {
     "name": "stdout",
     "output_type": "stream",
     "text": [
      "No tengo un nombre. Soy un modelo de lenguaje grande, entrenado por Google.\n",
      "\n",
      "En cuanto a tu segunda pregunta, no tengo acceso directo a Internet en tiempo real como un navegador. Mi conocimiento se basa en la información con la que fui entrenado, que tiene una fecha de corte.\n",
      "\n",
      "Sin embargo, si estoy integrado con una herramienta de búsqueda web (como en este caso, a menudo tengo acceso a Google Search), puedo buscar y procesar información actualizada para responder a tus preguntas.\n",
      "\n",
      "Así que, sí, para muchas preguntas, puedo acceder a datos de internet de hoy a través de esa integración.\n"
     ]
    }
   ],
   "execution_count": 15
  },
  {
   "metadata": {
    "ExecuteTime": {
     "end_time": "2025-08-09T18:09:36.504012Z",
     "start_time": "2025-08-09T18:09:36.500728Z"
    }
   },
   "cell_type": "code",
   "source": [
    "# print chat history\n",
    "print([chat_history[i].content for i in range(len(chat_history))])"
   ],
   "id": "cac17144e7406b5b",
   "outputs": [
    {
     "name": "stdout",
     "output_type": "stream",
     "text": [
      "['Eres un asistente util', 'Como te llamas', 'como te llamas', 'tienes acceso a datos de internet de hoy?']\n"
     ]
    }
   ],
   "execution_count": 16
  }
 ],
 "metadata": {
  "kernelspec": {
   "display_name": "Python 3",
   "language": "python",
   "name": "python3"
  },
  "language_info": {
   "codemirror_mode": {
    "name": "ipython",
    "version": 2
   },
   "file_extension": ".py",
   "mimetype": "text/x-python",
   "name": "python",
   "nbconvert_exporter": "python",
   "pygments_lexer": "ipython2",
   "version": "2.7.6"
  }
 },
 "nbformat": 4,
 "nbformat_minor": 5
}
