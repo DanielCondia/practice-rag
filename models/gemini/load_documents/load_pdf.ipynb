{
 "cells": [
  {
   "cell_type": "code",
   "id": "initial_id",
   "metadata": {
    "collapsed": true,
    "ExecuteTime": {
     "end_time": "2025-08-09T21:42:01.859595Z",
     "start_time": "2025-08-09T21:42:01.727397Z"
    }
   },
   "source": [
    "from langchain_community.document_loaders import PyPDFLoader\n",
    "\n",
    "file_path = ('../../../info_pdfs/preguntas_frecuentes.pdf')\n",
    "loader = PyPDFLoader(file_path)\n",
    "pages = loader.load_and_split()\n",
    "\n",
    "print(pages)"
   ],
   "outputs": [
    {
     "name": "stderr",
     "output_type": "stream",
     "text": [
      "Ignoring wrong pointing object 6 0 (offset 0)\n",
      "Ignoring wrong pointing object 8 0 (offset 0)\n",
      "Ignoring wrong pointing object 26 0 (offset 0)\n",
      "Ignoring wrong pointing object 35 0 (offset 0)\n"
     ]
    },
    {
     "name": "stdout",
     "output_type": "stream",
     "text": [
      "[Document(page_content='¿Qué servicios de salud están disponibles de forma presencial para los estudiantes de la FESAD? En la Línea de Salud se cuenta con la Sala de Procedimientos Mínimos, espacio donde se realizan intervenciones ambulatorias de baja complejidad, que incluyen atenciones tales como: administración de medicamentos, curaciones, retiro de puntos, seguimiento de la tensión arterial, toma de signos vitales y medidas antropométricas, así como atención en primeros auxilios por parte del Área de Enfermería, en apoyo al servicio de medicina y a las brigadas de emergencia. La atención se brinda de lunes a sábado en las sedes de Tunja, Duitama, Sogamoso, Chiquinquirá y Aguazul. Sede Tunja Facultad Salud Lunes a Viernes  6:00 a. m. a 10:00 p. m.  Sábado 7:00 a. m. a 6:00 p. m. \\n Tunja Sede Central Lunes a Viernes 6:00 a. m. a 10:00 p. m.  Sábado 7:00 a. m. a 6:00 p. m. \\nChiquinquirá Lunes a Viernes 6:00 a. m. a 10:00 a.m. Sábados 7:00 a. m. a 6:00 p. m. Duitama Lunes 6:00 a. m. a 10:00 p. m. Martes a Viernes 6:00 a. m. a 10:00 p. m.  Sábado 7:00 a. m. a 6:00 p. m. \\n Sogamoso Lunes a Viernes 7:00 a. m. a 3:00 p. m. 4:00 p. m. a 10:00 p. m. Sábados  7:00 a. m. a 6:00 p. m. \\nAguazul Los servicios de salud son ofrecidos mediante el contrato vigente celebrado entre la UPTC Sede Aguazul y el Hospital Juan Hernando Urrego E.S.E, se dispone de servicios de hospitalización , consulta especializada y urgencias para los estudiantes de esta Sede. Estos servicios se ofrecen según disponibilidad de la institución prestante.  ¿Los estudiantes de la FESAD pueden acceder a los servicios de consulta en psicología, medicina, enfermería y laboratorio clínico?', metadata={'source': '../../../info_pdfs/preguntas_frecuentes.pdf', 'page': 0}), Document(page_content='No, en concordancia con el Acuerdo 053 de 2020, en el cual se reglamenta la prestación de servicios de salud a la comunidad universitaria, y se dictan otras disposiciones.   ¿Cómo acceder a los servicios de las Líneas de Cultura, Deporte y Actividad Física? En cuanto a las Líneas de Cultura, Deporte y Actividad Física, el estudiante debe ubicar en la página de Bienestar su sede más cercana, la oferta por línea y los horarios de los diferentes cursos, talleres formativos, grupos representativos, eventos y servicios como el de los Centros de Acondicionamiento Físico entre otros y realizar su respectiva inscripción de acuerdo a su interés.   ¿Qué programas culturales y artísticos están disponibles para los estudiantes de la FESAD? Desde la Línea de Cultura se ofertan talleres, cursos y grupos en las áreas de música, danza, teatro y artes plásticas. El estudiante debe ubicar la sede más próxima e inscribirse a través de la página de Bienestar de acuerdo a la oferta y los horarios disponibles.   ¿Puedo participar en actividades deportivas organizadas por la universidad? Sí. Desde la Línea de Deporte, se cuenta con tres modalidades de participación: formativa, recreativa y representativa. Cada sede cuenta con una oferta de cursos, torneos y actividades deportivas de acuerdo a la disponibilidad de personal, horarios, escenarios, convenios, demanda y grupo de interés. La inscripción debe realizarse en la página web de Bienestar, Línea de Deporte, sede y deporte o actividad de interés. Enlace de disciplinas disponibles   ¿Qué beneﬁcios hay desde la Línea de Apoyo Socioeconómico para estudiantes de la FESAD?', metadata={'source': '../../../info_pdfs/preguntas_frecuentes.pdf', 'page': 1}), Document(page_content='La Línea de Apoyo Socioeconómico cuenta con el servicio de Restaurante Estudiantil que incluye: almuerzo y cena de lunes a viernes y almuerzo los sábados en las sedes de Tunja, Duitama, Sogamoso, Chiquinquirá y Aguazul. También cuenta con la asignación de becas por extrema incapacidad económica, becas de trabajo (Unidades Académico Administrativas) y representación estudiantil, cultural y deportiva, entre otras. Además, está el Centro Lúdico para la Primera Infancia - Upetecitos en la Sede Central en Tunja. Desde esta Línea se realiza el enlace con convenios como Renta Joven y Banco de acuerdo a las convocatorias externas.   ¿Qué beneﬁcios hay desde la Línea de Apoyo Socioeconómico para estudiantes de la FESAD? La Línea de Apoyo Socioeconómico cuenta con el servicio de Restaurante Estudiantil que incluye: almuerzo y cena de lunes a viernes y almuerzo los sábados en las sedes de Tunja, Duitama, Sogamoso, Chiquinquirá y Aguazul. También cuenta con la asignación de becas por extrema incapacidad económica, becas de trabajo (Unidades Académico Administrativas) y representación estudiantil, cultural y deportiva, entre otras. Además, está el Centro Lúdico para la Primera Infancia - Upetecitos en la Sede Central en Tunja. Desde esta Línea se realiza el enlace con convenios como Renta Joven y Banco de acuerdo a las convocatorias externas.    ¿Dónde puedo encontrar información sobre talleres, charlas y actividades presenciales? En cada sede se promueven actividades, talleres, charlas, conversatorios acompañamiento individual y grupal en temas como habilidades socioemocionales, adaptación a la vida universitaria, educación inclusiva, asuntos de género, salud mental y emocional prevención y mitigación de consumo de sustancias psicoactivas entre otros.  Para conocer más sobre la Línea de Desarrollo Humano y sus programas, te invitamos a consultar el siguiente enlace. Enlace de Desarrollo Humano.', metadata={'source': '../../../info_pdfs/preguntas_frecuentes.pdf', 'page': 2}), Document(page_content='¿Qué servicios de Bienestar Universitario están disponibles de forma virtual para los estudiantes de la FESAD? • Servicios de consejería en línea (psicología, psicopedagogía y enfermería). • Cursos virtuales en deporte y cultura (oferta por semestre). • Talleres, conversatorios, trasmisión de eventos y charlas en temas como:  habilidades socioemocionales y académicas, salud mental y emocional, adaptación a la vida universitaria y relaciones saludables de pareja entre otros. • Material educativo y contenido digital para diferentes medios, en las áreas de cultura, deporte, actividad física, desarrollo humano y salud. Oferta Bienestar Virtual   ¿Cómo puedo acceder a consejería psicológica, psicopedagogía y enfermería de manera virtual? Mediante la página de Bienestar Universitario en el Aplicativo de Gestión de Consejerías, con el usuario y contraseña del correo institucional. Solicitar Consejería Virtual   ¿Existe algún canal oﬁcial donde se publiquen las convocatorias y actividades de Bienestar Universitario? En la página web de la universidad y en la parte superior ingresa en estudiantes, luego ubica Bienestar Universitario, eventos y noticias.   ¿Cómo puedo contactar con Bienestar Universitario para resolver dudas o acceder a los servicios? Consulte la página de Bienestar en el menú principal, ubique el botón contáctenos, ahí encontrará las líneas telefónicas o correos de acuerdo a la sede o por medio del chat de Bienestar. Contáctenos por estos medios a través de mensajes de texto.   ¿Cuál es el horario de atención de Bienestar Universitario para estudiantes?', metadata={'source': '../../../info_pdfs/preguntas_frecuentes.pdf', 'page': 3}), Document(page_content='De lunes a viernes de 8:00 a.m.  a 12:00 m y de 2:00 p.m. a 6:00 p.m. en las oﬁcinas.   ¿Los estudiantes de la FESAD tienen los mismos beneﬁcios de Bienestar Universitario que los estudiantes de modalidad presencial? Sí, con excepción de: servicios de salud (consulta en medicina, odontología. enfermería y laboratorio clínico) reglamentados por Acuerdo 053 del 2020, residencia estudiantil Acuerdo 013 de 2020 y beca de alimentación por el 100% del valor servicio Acuerdo 052 de 2018.    ¿Qué hago si tengo un problema o una queja sobre los servicios de Bienestar Universitario? Escribir a la Dirección de Bienestar a través del correo electrónico, tanto en Tunja como en las demás sedes. También puede radicar su queja por el canal de PQR de la universidad.    ¿Cuáles son las líneas de atención de emergencias psicológicas? Línea 106, activa las 24 horas, brinda los servicios de apoyo psicológico y orientación en crisis durante los 365 días del año. Se puede contactar a través de llamada, WhatsApp, chat de Facebook o correo electrónico.  40 segundos, estrategia digital de apoyo emocional enfocada en la promoción del bienestar y la salud mental de la población tunjana, 318 4653854. De lunes a domingo 8:00 a.m. a 8:00 p.m.', metadata={'source': '../../../info_pdfs/preguntas_frecuentes.pdf', 'page': 4})]\n"
     ]
    }
   ],
   "execution_count": 2
  }
 ],
 "metadata": {
  "kernelspec": {
   "display_name": "Python 3",
   "language": "python",
   "name": "python3"
  },
  "language_info": {
   "codemirror_mode": {
    "name": "ipython",
    "version": 2
   },
   "file_extension": ".py",
   "mimetype": "text/x-python",
   "name": "python",
   "nbconvert_exporter": "python",
   "pygments_lexer": "ipython2",
   "version": "2.7.6"
  }
 },
 "nbformat": 4,
 "nbformat_minor": 5
}
