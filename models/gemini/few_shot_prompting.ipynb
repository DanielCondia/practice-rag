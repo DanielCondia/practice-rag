{
 "cells": [
  {
   "cell_type": "code",
   "id": "initial_id",
   "metadata": {
    "collapsed": true,
    "ExecuteTime": {
     "end_time": "2025-08-07T15:48:26.891902Z",
     "start_time": "2025-08-07T15:48:20.602900Z"
    }
   },
   "source": [
    "import getpass\n",
    "\n",
    "from langchain_google_genai import ChatGoogleGenerativeAI\n",
    "\n",
    "from guias.few_pretrained_model_chainmodel import example_prompt, few_shot_prompt, main_prompt\n",
    "\n",
    "api_key = getpass.getpass(\"Enter your API key: \")\n",
    "llm = ChatGoogleGenerativeAI(model=\"gemini-2.5-flash\", google_api_key=api_key)"
   ],
   "outputs": [],
   "execution_count": 1
  },
  {
   "metadata": {
    "ExecuteTime": {
     "end_time": "2025-08-07T15:49:39.458395Z",
     "start_time": "2025-08-07T15:49:28.377484Z"
    }
   },
   "cell_type": "code",
   "source": [
    "# Como primer ejemplo, mandamos una pregunta random sin pre entrenar el modelo\n",
    "llm.invoke('Cuanto es 2 🦜 9').content"
   ],
   "id": "21f9dbad45a72086",
   "outputs": [
    {
     "data": {
      "text/plain": [
       "'¡Qué pregunta tan divertida! El emoji del loro (🦜) suele asociarse con la **repetición**.\\n\\nAsí que, la interpretación más probable de **2 🦜 9** es:\\n\\nEl número **2** repetido **9** veces.\\n\\nLo que daría como resultado:\\n\\n**222.222.222** (doscientos veintidós millones doscientos veintidós mil doscientos veintidós)\\n\\n**Otras posibles interpretaciones (menos probables pero posibles):**\\n\\n*   **Si fuera una operación matemática estándar y el loro fuera solo decorativo:** 2 x 9 = 18 (multiplicación, aunque el loro no es un símbolo matemático).\\n*   **Si fuera el 9 repetido 2 veces:** 99\\n*   **Si fuera un chiste o acertijo:** ¡Quizás 2 loros y 9 loros son 11 loros! 😉\\n\\nPero, en el contexto de emojis entre números, la repetición es la más común.'"
      ]
     },
     "execution_count": 2,
     "metadata": {},
     "output_type": "execute_result"
    }
   ],
   "execution_count": 2
  },
  {
   "metadata": {
    "ExecuteTime": {
     "end_time": "2025-08-07T15:52:12.375545Z",
     "start_time": "2025-08-07T15:52:12.338853Z"
    }
   },
   "cell_type": "code",
   "source": [
    "from langchain_core.prompts import ChatPromptTemplate, FewShotChatMessagePromptTemplate\n",
    "\n",
    "# Definimos los ejemplos para el prompt\n",
    "examples = [\n",
    "    {'input': '2 🦜 2', 'output': '4'},\n",
    "    {'input': '2 🦜 3', 'output': '5'}\n",
    "]\n",
    "\n",
    "# Definimos el prompt template\n",
    "example_prompt = ChatPromptTemplate(\n",
    "    [\n",
    "        ('human', '{input}'),\n",
    "        ('ai', '{output}')\n",
    "    ]\n",
    ")"
   ],
   "id": "42fa6ea0a10f7946",
   "outputs": [],
   "execution_count": 3
  },
  {
   "metadata": {
    "ExecuteTime": {
     "end_time": "2025-08-07T15:53:06.582765Z",
     "start_time": "2025-08-07T15:53:06.577875Z"
    }
   },
   "cell_type": "code",
   "source": [
    "few_shot_prompt = FewShotChatMessagePromptTemplate(\n",
    "    example_prompt=example_prompt,\n",
    "    examples=examples\n",
    ")\n",
    "\n",
    "print(few_shot_prompt.invoke({}).to_messages())"
   ],
   "id": "649fb3d774f0144a",
   "outputs": [
    {
     "name": "stdout",
     "output_type": "stream",
     "text": [
      "[HumanMessage(content='2 🦜 2', additional_kwargs={}, response_metadata={}), AIMessage(content='4', additional_kwargs={}, response_metadata={}), HumanMessage(content='2 🦜 3', additional_kwargs={}, response_metadata={}), AIMessage(content='5', additional_kwargs={}, response_metadata={})]\n"
     ]
    }
   ],
   "execution_count": 4
  },
  {
   "metadata": {
    "ExecuteTime": {
     "end_time": "2025-08-07T15:54:36.156986Z",
     "start_time": "2025-08-07T15:54:36.154536Z"
    }
   },
   "cell_type": "code",
   "source": [
    "# definimos el prompt principal en donde vamos concatenando los templaetes con los ejemplos\n",
    "\n",
    "main_prompt = ChatPromptTemplate.from_messages(\n",
    "    [\n",
    "        ('system', 'Eres experto en matemáticas'),\n",
    "        few_shot_prompt,\n",
    "        ('human', '{input}')\n",
    "    ]\n",
    ")"
   ],
   "id": "4f8f65e2ab2f8a90",
   "outputs": [],
   "execution_count": 5
  },
  {
   "metadata": {
    "ExecuteTime": {
     "end_time": "2025-08-07T15:54:56.209898Z",
     "start_time": "2025-08-07T15:54:56.207630Z"
    }
   },
   "cell_type": "code",
   "source": [
    "# Usamos chain para invocar el modelo y el prompt\n",
    "chain = main_prompt | llm"
   ],
   "id": "59816cbc15174a81",
   "outputs": [],
   "execution_count": 6
  },
  {
   "metadata": {
    "ExecuteTime": {
     "end_time": "2025-08-07T15:55:07.741902Z",
     "start_time": "2025-08-07T15:55:05.577429Z"
    }
   },
   "cell_type": "code",
   "source": "chain.invoke('Cuanto es 2 🦜 9').content",
   "id": "d771fd8bf0588b61",
   "outputs": [
    {
     "data": {
      "text/plain": [
       "'¡Es 11!\\n\\nEl símbolo 🦜 parece significar \"más\" o \"sumado a\".'"
      ]
     },
     "execution_count": 7,
     "metadata": {},
     "output_type": "execute_result"
    }
   ],
   "execution_count": 7
  }
 ],
 "metadata": {
  "kernelspec": {
   "display_name": "Python 3",
   "language": "python",
   "name": "python3"
  },
  "language_info": {
   "codemirror_mode": {
    "name": "ipython",
    "version": 2
   },
   "file_extension": ".py",
   "mimetype": "text/x-python",
   "name": "python",
   "nbconvert_exporter": "python",
   "pygments_lexer": "ipython2",
   "version": "2.7.6"
  }
 },
 "nbformat": 4,
 "nbformat_minor": 5
}
