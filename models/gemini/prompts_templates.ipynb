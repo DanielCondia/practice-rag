{
 "cells": [
  {
   "cell_type": "code",
   "id": "initial_id",
   "metadata": {
    "collapsed": true,
    "ExecuteTime": {
     "end_time": "2025-08-06T01:52:59.806002Z",
     "start_time": "2025-08-06T01:52:59.578877Z"
    }
   },
   "source": [
    "from langchain_core.prompts import PromptTemplate\n",
    "\n",
    "# formamos el template de prompt a partir de un string basico\n",
    "prompt_template = PromptTemplate.from_template(\"Dime un chiste sobre {topic}\")\n",
    "prompt = prompt_template.invoke({\"topic\": \"programación\"})\n",
    "print(prompt)"
   ],
   "outputs": [
    {
     "name": "stdout",
     "output_type": "stream",
     "text": [
      "text='Dime un chiste sobre programación'\n"
     ]
    }
   ],
   "execution_count": 4
  },
  {
   "metadata": {
    "ExecuteTime": {
     "end_time": "2025-08-07T15:23:46.712573Z",
     "start_time": "2025-08-07T15:23:46.706958Z"
    }
   },
   "cell_type": "code",
   "source": [
    "from langchain_core.prompts import ChatPromptTemplate\n",
    "\n",
    "# formamos el template con base a varios mensajes mas\n",
    "prompt_template = ChatPromptTemplate.from_messages(\n",
    "    [\n",
    "        ('system', \"Eres un asistente util\"),\n",
    "        ('human', \"Dime un chiste sobre {topic}\"),\n",
    "    ]\n",
    ")\n",
    "prompt = prompt_template.invoke({\"topic\": \"programación\"})\n",
    "print(prompt)"
   ],
   "id": "dc968e232af1f942",
   "outputs": [
    {
     "name": "stdout",
     "output_type": "stream",
     "text": [
      "messages=[SystemMessage(content='Eres un asistente util', additional_kwargs={}, response_metadata={}), HumanMessage(content='Dime un chiste sobre programación', additional_kwargs={}, response_metadata={})]\n"
     ]
    }
   ],
   "execution_count": 9
  },
  {
   "metadata": {
    "ExecuteTime": {
     "end_time": "2025-08-07T15:23:52.864408Z",
     "start_time": "2025-08-07T15:23:49.668100Z"
    }
   },
   "cell_type": "code",
   "source": [
    "from langchain_google_genai import ChatGoogleGenerativeAI\n",
    "from getpass import getpass\n",
    "\n",
    "api_key = getpass(\"Enter your API key: \")\n",
    "\n",
    "llm = ChatGoogleGenerativeAI(\n",
    "    model='gemini-2.5-flash',\n",
    "    google_api_key=api_key\n",
    ")\n",
    "\n",
    "chain = prompt_template | llm\n",
    "\n",
    "ai_message = chain.invoke(prompt)\n",
    "print(ai_message)"
   ],
   "id": "ed7e05ddca8d9a03",
   "outputs": [
    {
     "name": "stdout",
     "output_type": "stream",
     "text": [
      "content='¿Por qué los programadores prefieren los teclados mecánicos?\\n\\n¡Porque les encanta escuchar el \"clic\" cuando su código finalmente compila!' additional_kwargs={} response_metadata={'prompt_feedback': {'block_reason': 0, 'safety_ratings': []}, 'finish_reason': 'STOP', 'model_name': 'gemini-2.5-flash', 'safety_ratings': []} id='run--7fc0460f-d38a-4a5a-84b4-3b588dbdccd1-0' usage_metadata={'input_tokens': 56, 'output_tokens': 32, 'total_tokens': 132, 'input_token_details': {'cache_read': 0}, 'output_token_details': {'reasoning': 44}}\n"
     ]
    }
   ],
   "execution_count": 10
  }
 ],
 "metadata": {
  "kernelspec": {
   "display_name": "Python 3",
   "language": "python",
   "name": "python3"
  },
  "language_info": {
   "codemirror_mode": {
    "name": "ipython",
    "version": 2
   },
   "file_extension": ".py",
   "mimetype": "text/x-python",
   "name": "python",
   "nbconvert_exporter": "python",
   "pygments_lexer": "ipython2",
   "version": "2.7.6"
  }
 },
 "nbformat": 4,
 "nbformat_minor": 5
}
