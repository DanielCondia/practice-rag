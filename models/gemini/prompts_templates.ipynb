{
 "cells": [
  {
   "cell_type": "code",
   "id": "initial_id",
   "metadata": {
    "collapsed": true,
    "ExecuteTime": {
     "end_time": "2025-08-06T01:52:59.806002Z",
     "start_time": "2025-08-06T01:52:59.578877Z"
    }
   },
   "source": [
    "from langchain_core.prompts import PromptTemplate\n",
    "\n",
    "# formamos el template de prompt a partir de un string basico\n",
    "prompt_template = PromptTemplate.from_template(\"Dime un chiste sobre {topic}\")\n",
    "prompt = prompt_template.invoke({\"topic\": \"programación\"})\n",
    "print(prompt)"
   ],
   "outputs": [
    {
     "name": "stdout",
     "output_type": "stream",
     "text": [
      "text='Dime un chiste sobre programación'\n"
     ]
    }
   ],
   "execution_count": 4
  },
  {
   "metadata": {
    "ExecuteTime": {
     "end_time": "2025-08-06T01:57:31.625330Z",
     "start_time": "2025-08-06T01:57:31.579275Z"
    }
   },
   "cell_type": "code",
   "source": [
    "from langchain_core.prompts import ChatPromptTemplate\n",
    "\n",
    "# formamos el template con base a varios mensajes mas\n",
    "prompt_template = ChatPromptTemplate.from_messages(\n",
    "    [\n",
    "        ('system', \"Eres un asistente util\"),\n",
    "        ('human', \"Dime un chiste sobre {topic}\"),\n",
    "    ]\n",
    ")\n",
    "prompt = prompt_template.invoke({\"topic\": \"programación\"})\n",
    "print(prompt)"
   ],
   "id": "dc968e232af1f942",
   "outputs": [
    {
     "name": "stdout",
     "output_type": "stream",
     "text": [
      "messages=[SystemMessage(content='Eres un asistente util', additional_kwargs={}, response_metadata={}), HumanMessage(content='Dime un chiste sobre programación', additional_kwargs={}, response_metadata={})]\n"
     ]
    }
   ],
   "execution_count": 5
  }
 ],
 "metadata": {
  "kernelspec": {
   "display_name": "Python 3",
   "language": "python",
   "name": "python3"
  },
  "language_info": {
   "codemirror_mode": {
    "name": "ipython",
    "version": 2
   },
   "file_extension": ".py",
   "mimetype": "text/x-python",
   "name": "python",
   "nbconvert_exporter": "python",
   "pygments_lexer": "ipython2",
   "version": "2.7.6"
  }
 },
 "nbformat": 4,
 "nbformat_minor": 5
}
